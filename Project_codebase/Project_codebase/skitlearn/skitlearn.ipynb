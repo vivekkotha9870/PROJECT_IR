{
 "cells": [
  {
   "cell_type": "code",
   "execution_count": 27,
   "metadata": {},
   "outputs": [
    {
     "name": "stdout",
     "output_type": "stream",
     "text": [
      "Top 2 documents for query 'The quick brown fox': [4 3]\n"
     ]
    }
   ],
   "source": [
    "import pickle\n",
    "from sklearn.feature_extraction.text import TfidfVectorizer\n",
    "from sklearn.metrics.pairwise import cosine_similarity\n",
    "\n",
    "class InvertedIndexer:\n",
    "    def __init__(self):\n",
    "        self.vectorizer = TfidfVectorizer()\n",
    "        self.inverted_index = None\n",
    "\n",
    "    def fit_transform(self, documents):\n",
    "        \"\"\"\n",
    "        Fit the vectorizer and transform documents into a matrix.\n",
    "        \"\"\"\n",
    "        self.inverted_index = self.vectorizer.fit_transform(documents)\n",
    "\n",
    "    def save_index(self, file_path):\n",
    "        \"\"\"\n",
    "        Save the inverted index to a pickle file.\n",
    "        \"\"\"\n",
    "        with open(file_path, 'wb') as f:\n",
    "            pickle.dump(self.inverted_index, f)\n",
    "\n",
    "    def load_index(self, file_path):\n",
    "        \"\"\"\n",
    "        Load the inverted index from a pickle file.\n",
    "        \"\"\"\n",
    "        with open(file_path, 'rb') as f:\n",
    "            self.inverted_index = pickle.load(f)\n",
    "\n",
    "    def search(self, query, top_n=5):\n",
    "        \"\"\"\n",
    "        Search the index for the top N documents most similar to the query.\n",
    "        \"\"\"\n",
    "        query_vector = self.vectorizer.transform([query])\n",
    "        similarities = cosine_similarity(query_vector, self.inverted_index)\n",
    "        top_indices = similarities.argsort()[0][-top_n:][::-1]\n",
    "        return top_indices\n",
    "\n",
    "# Example usage\n",
    "if __name__ == \"__main__\":\n",
    "    # Example documents\n",
    "    documents = [\n",
    "        \"The quick brown fox jumps over the lazy dog\",\n",
    "        \"The quick brown dog jumps over the lazy fox\",\n",
    "        \"The lazy dog jumps over the quick brown fox\",\n",
    "        \"The lazy fox jumps over the quick brown dog\",\n",
    "        \"The quick brown fox jumps over the lazy dog\"\n",
    "    ]\n",
    "\n",
    "    # Initialize and fit the indexer\n",
    "    indexer = InvertedIndexer()\n",
    "    indexer.fit_transform(documents)\n",
    "\n",
    "    # Save the index\n",
    "    indexer.save_index('inverted_index.pkl')\n",
    "\n",
    "    # Load the index (optional, for demonstration)\n",
    "    indexer.load_index('inverted_index.pkl')\n",
    "\n",
    "    # Search the index\n",
    "    query = \"The quick brown fox\"\n",
    "    top_indices = indexer.search(query, top_n=2)\n",
    "    print(f\"Top 2 documents for query '{query}': {top_indices}\")\n"
   ]
  }
 ],
 "metadata": {
  "kernelspec": {
   "display_name": ".venv",
   "language": "python",
   "name": "python3"
  },
  "language_info": {
   "codemirror_mode": {
    "name": "ipython",
    "version": 3
   },
   "file_extension": ".py",
   "mimetype": "text/x-python",
   "name": "python",
   "nbconvert_exporter": "python",
   "pygments_lexer": "ipython3",
   "version": "3.11.6"
  }
 },
 "nbformat": 4,
 "nbformat_minor": 2
}
